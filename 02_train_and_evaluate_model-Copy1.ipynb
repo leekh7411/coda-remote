{
 "cells": [
  {
   "cell_type": "code",
   "execution_count": 1,
   "metadata": {},
   "outputs": [
    {
     "name": "stderr",
     "output_type": "stream",
     "text": [
      "Using Theano backend.\n"
     ]
    }
   ],
   "source": [
    "import os\n",
    "import copy\n",
    "import tempfile\n",
    "import json\n",
    "from subprocess import call\n",
    "from diConstants import (HG19_ALL_CHROMS, MM9_ALL_CHROMS,\n",
    "    HG19_TRAIN_CHROMS, MM9_TRAIN_CHROMS,\n",
    "    VALID_CHROMS, TEST_CHROMS) \n",
    "\n",
    "import models\n",
    "import modelTemplates"
   ]
  },
  {
   "cell_type": "code",
   "execution_count": 2,
   "metadata": {},
   "outputs": [],
   "source": [
    "GM_MARKS = ['H3K27AC'] # Is this output mark?\n",
    "#GM_MARKS = ['H3K27AC', 'H3K4ME1', 'H3K4ME3', 'H3K27ME3', 'H3K36ME3']\n",
    "modelList = []\n",
    "def init_test_GM18526():\n",
    "    for test_cell_line in ['GM18526']:\n",
    "        for subsample_target_string in ['0.5e6']:\n",
    "            for predict_binary_output in [True, False]: # original : TRUE , FALSE   \n",
    "                for output_mark in GM_MARKS:                            \n",
    "\n",
    "                    model_params = modelTemplates.make_model_params(\n",
    "                                #### Prediction model(keras ver) specification ####\n",
    "                                model_library='keras',\n",
    "                                model_class='SeqToPoint',\n",
    "                                model_type='dcgan',\n",
    "                                model_specific_params={\n",
    "                                    'num_filters': 6,\n",
    "                                    'filter_length': 51\n",
    "                                },\n",
    "                                compile_params={            \n",
    "                                    'optimizer': 'adagrad'\n",
    "                                },\n",
    "            \n",
    "                                #### Dataset specification ####\n",
    "                                dataset_params={\n",
    "                                    'train_dataset_name': 'GM12878_5+1marks-K4me3_all',\n",
    "                                    'test_dataset_name': '%s_5+1marks-K4me3_all' % test_cell_line, #(1)\n",
    "                                    'num_train_examples': 1000,\n",
    "                                    'seq_length': 1001,\n",
    "                                    'peak_fraction': 0.5,                            \n",
    "                                    'train_X_subsample_target_string': subsample_target_string, #(2)\n",
    "                                    'num_bins_to_test': None,\n",
    "                                    'train_chroms': HG19_ALL_CHROMS, # GM-12878 ch1 ~ ch22\n",
    "                                    'test_chroms': HG19_ALL_CHROMS, # CM-18526 ch1 ~ ch22\n",
    "                                    'only_chr1': True\n",
    "                                },\n",
    "                                output_marks=[output_mark],\n",
    "                                train_params={\n",
    "                                    'nb_epoch': 1,\n",
    "                                    'batch_size': 100\n",
    "                                },\n",
    "                                predict_binary_output=predict_binary_output,\n",
    "                                zero_out_non_bins=True,\n",
    "                                generate_bigWig=True)\n",
    "\n",
    "                    init_model(model_params)\n",
    "\n",
    "def init_model(model_params):\n",
    "    m = models.SeqModel.instantiate_model(model_params)\n",
    "    modelList.append([m,model_params])\n",
    "    print '\\n\\n\\n'"
   ]
  },
  {
   "cell_type": "code",
   "execution_count": 3,
   "metadata": {},
   "outputs": [
    {
     "name": "stdout",
     "output_type": "stream",
     "text": [
      "Model output mark: ['H3K27AC']\n",
      "____________________________________________________________________________________________________\n",
      "Layer (type)                     Output Shape          Param #     Connected to                     \n",
      "====================================================================================================\n",
      "convolution1d_1 (Convolution1D)  (None, None, 6)       1842        convolution1d_input_1[0][0]      \n",
      "____________________________________________________________________________________________________\n",
      "activation_1 (Activation)        (None, None, 6)       0           convolution1d_1[0][0]            \n",
      "____________________________________________________________________________________________________\n",
      "convolution1d_2 (Convolution1D)  (None, None, 1)       6007        activation_1[0][0]               \n",
      "____________________________________________________________________________________________________\n",
      "activation_2 (Activation)        (None, None, 1)       0           convolution1d_2[0][0]            \n",
      "====================================================================================================\n",
      "Total params: 7,849\n",
      "Trainable params: 7,849\n",
      "Non-trainable params: 0\n",
      "____________________________________________________________________________________________________\n",
      "None\n",
      "model_json_str\n",
      "{\"compile_params\": {\"loss\": \"binary_crossentropy\", \"optimizer\": \"adagrad\"}, \"random_seed\": 0, \"output_marks\": [\"H3K27AC\"], \"predict_binary_output\": true, \"input_marks\": [\"H3K27AC\", \"H3K27ME3\", \"H3K36ME3\", \"H3K4ME1\", \"H3K4ME3\", \"INPUT\"], \"filter_length\": 51, \"train_params\": {\"nb_epoch\": 1, \"validation_split\": 0.2, \"batch_size\": 100}, \"scale_input\": \"01\", \"generate_bigWig\": true, \"_keras_model_params\": {\"class_name\": \"Sequential\", \"keras_version\": \"1.2.1\", \"config\": [{\"class_name\": \"Convolution1D\", \"config\": {\"input_length\": null, \"W_constraint\": null, \"b_constraint\": null, \"name\": \"convolution1d_1\", \"activity_regularizer\": null, \"trainable\": true, \"filter_length\": 51, \"b_regularizer\": null, \"init\": \"uniform\", \"bias\": true, \"nb_filter\": 6, \"activation\": \"linear\", \"input_dtype\": \"float32\", \"subsample_length\": 1, \"batch_input_shape\": [null, null, 6], \"W_regularizer\": null, \"input_dim\": 6, \"border_mode\": \"same\"}}, {\"class_name\": \"Activation\", \"config\": {\"activation\": \"relu\", \"trainable\": true, \"name\": \"activation_1\"}}, {\"class_name\": \"Convolution1D\", \"config\": {\"input_length\": null, \"W_constraint\": null, \"b_constraint\": null, \"name\": \"convolution1d_2\", \"activity_regularizer\": null, \"trainable\": true, \"filter_length\": 1001, \"init\": \"uniform\", \"bias\": true, \"nb_filter\": 1, \"input_dim\": null, \"subsample_length\": 1, \"b_regularizer\": null, \"W_regularizer\": null, \"activation\": \"linear\", \"border_mode\": \"valid\"}}, {\"class_name\": \"Activation\", \"config\": {\"activation\": \"sigmoid\", \"trainable\": true, \"name\": \"activation_2\"}}]}, \"zero_out_non_bins\": true, \"model_library\": \"keras\", \"num_filters\": 6, \"model_type\": \"cnn\", \"model_class\": \"SeqToPoint\", \"dataset_params\": {\"test_datasets\": [{\"random_seed\": 0, \"Y_subsample_target_string\": null, \"X_subsample_target_string\": \"0.5e6\", \"marks_in_dataset\": [\"H3K27AC\", \"H3K27ME3\", \"H3K36ME3\", \"H3K4ME1\", \"H3K4ME3\", \"INPUT\"], \"chroms\": [\"chr1\", \"chr2\", \"chr3\", \"chr4\", \"chr5\", \"chr6\", \"chr7\", \"chr8\", \"chr9\", \"chr10\", \"chr11\", \"chr12\", \"chr13\", \"chr14\", \"chr15\", \"chr16\", \"chr17\", \"chr18\", \"chr19\", \"chr20\", \"chr21\", \"chr22\"], \"dataset_name\": \"GM18526_5+1marks-K4me3_all\", \"num_examples\": 1000, \"peak_fraction\": 0.5, \"cell_line\": \"GM18526\", \"species\": \"hg19\", \"normalization\": \"arcsinh\", \"chroms_string\": \"\"}], \"train_dataset\": {\"random_seed\": 0, \"Y_subsample_target_string\": null, \"X_subsample_target_string\": \"0.5e6\", \"marks_in_dataset\": [\"H3K27AC\", \"H3K27ME3\", \"H3K36ME3\", \"H3K4ME1\", \"H3K4ME3\", \"INPUT\"], \"chroms\": [\"chr1\", \"chr2\", \"chr3\", \"chr4\", \"chr5\", \"chr6\", \"chr7\", \"chr8\", \"chr9\", \"chr10\", \"chr11\", \"chr12\", \"chr13\", \"chr14\", \"chr15\", \"chr16\", \"chr17\", \"chr18\", \"chr19\", \"chr20\", \"chr21\", \"chr22\"], \"dataset_name\": \"GM12878_5+1marks-K4me3_all\", \"num_examples\": 1000, \"peak_fraction\": 0.5, \"cell_line\": \"GM12878\", \"species\": \"hg19\", \"normalization\": \"arcsinh\", \"chroms_string\": \"\"}, \"only_chr1\": true, \"num_bins_to_test\": null, \"seq_length\": 1001}}\n",
      "\n",
      "\n",
      "\n",
      "\n",
      "Model output mark: ['H3K27AC']\n",
      "____________________________________________________________________________________________________\n",
      "Layer (type)                     Output Shape          Param #     Connected to                     \n",
      "====================================================================================================\n",
      "convolution1d_3 (Convolution1D)  (None, None, 6)       1842        convolution1d_input_2[0][0]      \n",
      "____________________________________________________________________________________________________\n",
      "activation_3 (Activation)        (None, None, 6)       0           convolution1d_3[0][0]            \n",
      "____________________________________________________________________________________________________\n",
      "convolution1d_4 (Convolution1D)  (None, None, 1)       6007        activation_3[0][0]               \n",
      "____________________________________________________________________________________________________\n",
      "activation_4 (Activation)        (None, None, 1)       0           convolution1d_4[0][0]            \n",
      "====================================================================================================\n",
      "Total params: 7,849\n",
      "Trainable params: 7,849\n",
      "Non-trainable params: 0\n",
      "____________________________________________________________________________________________________\n",
      "None\n",
      "model_json_str\n",
      "{\"compile_params\": {\"loss\": \"MSE\", \"optimizer\": \"adagrad\"}, \"random_seed\": 0, \"output_marks\": [\"H3K27AC\"], \"predict_binary_output\": false, \"input_marks\": [\"H3K27AC\", \"H3K27ME3\", \"H3K36ME3\", \"H3K4ME1\", \"H3K4ME3\", \"INPUT\"], \"filter_length\": 51, \"train_params\": {\"nb_epoch\": 1, \"validation_split\": 0.2, \"batch_size\": 100}, \"scale_input\": \"01\", \"generate_bigWig\": true, \"_keras_model_params\": {\"class_name\": \"Sequential\", \"keras_version\": \"1.2.1\", \"config\": [{\"class_name\": \"Convolution1D\", \"config\": {\"input_length\": null, \"W_constraint\": null, \"b_constraint\": null, \"name\": \"convolution1d_3\", \"activity_regularizer\": null, \"trainable\": true, \"filter_length\": 51, \"b_regularizer\": null, \"init\": \"uniform\", \"bias\": true, \"nb_filter\": 6, \"activation\": \"linear\", \"input_dtype\": \"float32\", \"subsample_length\": 1, \"batch_input_shape\": [null, null, 6], \"W_regularizer\": null, \"input_dim\": 6, \"border_mode\": \"same\"}}, {\"class_name\": \"Activation\", \"config\": {\"activation\": \"relu\", \"trainable\": true, \"name\": \"activation_3\"}}, {\"class_name\": \"Convolution1D\", \"config\": {\"input_length\": null, \"W_constraint\": null, \"b_constraint\": null, \"name\": \"convolution1d_4\", \"activity_regularizer\": null, \"trainable\": true, \"filter_length\": 1001, \"init\": \"uniform\", \"bias\": true, \"nb_filter\": 1, \"input_dim\": null, \"subsample_length\": 1, \"b_regularizer\": null, \"W_regularizer\": null, \"activation\": \"linear\", \"border_mode\": \"valid\"}}, {\"class_name\": \"Activation\", \"config\": {\"activation\": \"relu\", \"trainable\": true, \"name\": \"activation_4\"}}]}, \"zero_out_non_bins\": true, \"model_library\": \"keras\", \"num_filters\": 6, \"model_type\": \"cnn\", \"model_class\": \"SeqToPoint\", \"dataset_params\": {\"test_datasets\": [{\"random_seed\": 0, \"Y_subsample_target_string\": null, \"X_subsample_target_string\": \"0.5e6\", \"marks_in_dataset\": [\"H3K27AC\", \"H3K27ME3\", \"H3K36ME3\", \"H3K4ME1\", \"H3K4ME3\", \"INPUT\"], \"chroms\": [\"chr1\", \"chr2\", \"chr3\", \"chr4\", \"chr5\", \"chr6\", \"chr7\", \"chr8\", \"chr9\", \"chr10\", \"chr11\", \"chr12\", \"chr13\", \"chr14\", \"chr15\", \"chr16\", \"chr17\", \"chr18\", \"chr19\", \"chr20\", \"chr21\", \"chr22\"], \"dataset_name\": \"GM18526_5+1marks-K4me3_all\", \"num_examples\": 1000, \"peak_fraction\": 0.5, \"cell_line\": \"GM18526\", \"species\": \"hg19\", \"normalization\": \"arcsinh\", \"chroms_string\": \"\"}], \"train_dataset\": {\"random_seed\": 0, \"Y_subsample_target_string\": null, \"X_subsample_target_string\": \"0.5e6\", \"marks_in_dataset\": [\"H3K27AC\", \"H3K27ME3\", \"H3K36ME3\", \"H3K4ME1\", \"H3K4ME3\", \"INPUT\"], \"chroms\": [\"chr1\", \"chr2\", \"chr3\", \"chr4\", \"chr5\", \"chr6\", \"chr7\", \"chr8\", \"chr9\", \"chr10\", \"chr11\", \"chr12\", \"chr13\", \"chr14\", \"chr15\", \"chr16\", \"chr17\", \"chr18\", \"chr19\", \"chr20\", \"chr21\", \"chr22\"], \"dataset_name\": \"GM12878_5+1marks-K4me3_all\", \"num_examples\": 1000, \"peak_fraction\": 0.5, \"cell_line\": \"GM12878\", \"species\": \"hg19\", \"normalization\": \"arcsinh\", \"chroms_string\": \"\"}, \"only_chr1\": true, \"num_bins_to_test\": null, \"seq_length\": 1001}}\n",
      "\n",
      "\n",
      "\n",
      "\n"
     ]
    }
   ],
   "source": [
    "init_test_GM18526()"
   ]
  },
  {
   "cell_type": "code",
   "execution_count": 4,
   "metadata": {
    "scrolled": false
   },
   "outputs": [
    {
     "name": "stdout",
     "output_type": "stream",
     "text": [
      "Number of Model: 2\n",
      "<models.SeqToPoint object at 0x7f5411209dd0>\n",
      "mid: 500\n",
      "mid: 500\n",
      "mid: 500\n",
      "model.fit() start.....\n",
      "Train on 800 samples, validate on 200 samples\n",
      "Epoch 1/1\n",
      "700/800 [=========================>....] - ETA: 0s - loss: 0.9844Epoch 00000: val_loss improved from inf to 0.34878, saving model to /srv/scratch/pangwei/deepimpute_pub/models/weights/cnn-20180712-175958251887-weights.hdf5\n",
      "800/800 [==============================] - 5s - loss: 0.9072 - val_loss: 0.3488\n",
      "...Done!\n",
      "<models.SeqToPoint object at 0x7f540e8a8bd0>\n",
      "mid: 500\n",
      "mid: 500\n",
      "mid: 500\n",
      "model.fit() start.....\n",
      "Train on 800 samples, validate on 200 samples\n",
      "Epoch 1/1\n",
      "700/800 [=========================>....] - ETA: 0s - loss: 4.0718Epoch 00000: val_loss improved from inf to 1.12126, saving model to /srv/scratch/pangwei/deepimpute_pub/models/weights/cnn-20180712-175958377292-weights.hdf5\n",
      "800/800 [==============================] - 5s - loss: 3.7677 - val_loss: 1.1213\n",
      "...Done!\n"
     ]
    }
   ],
   "source": [
    "def train_model():\n",
    "    print 'Number of Model:', len(modelList)\n",
    "    for model, params in modelList:\n",
    "        print model\n",
    "        model.compile_and_train_model()\n",
    "    \n",
    "train_model()"
   ]
  },
  {
   "cell_type": "code",
   "execution_count": null,
   "metadata": {
    "scrolled": false
   },
   "outputs": [
    {
     "name": "stdout",
     "output_type": "stream",
     "text": [
      "mid: 500\n",
      "mid: 500\n",
      "mid: 500\n",
      "train samples - Original peaks vs. true peaks:\n",
      "mid: 500\n",
      "AUC 0.786; AUPRC 0.839\n",
      "train samples - Predicted peaks vs. true peaks:\n",
      "AUC 0.973; AUPRC 0.974\n",
      "Evaluate model on testing data\n",
      "mid: 500\n",
      "mid: 500\n",
      "mid: 500\n",
      "test samples - Original peaks vs. true peaks:\n",
      "mid: 500\n",
      "AUC 0.662; AUPRC 0.711\n",
      "test samples - Predicted peaks vs. true peaks:\n",
      "AUC 0.967; AUPRC 0.966\n",
      "Test model on genome index 0 ...\n",
      "Test chr1, 9.97E+06 bins - Original:\n",
      "AUC 0.600; AUPRC 0.279\n",
      "Test chr1, 9.97E+06 bins - Denoised, all signal:\n",
      "AUC 0.963; AUPRC 0.771\n",
      "final results {u'orig_all': {u'chr1': {'precision_curves': [[0.1, 0.2, 0.30000000000000004, 0.4, 0.5, 0.6, 0.7, 0.7999999999999999, 0.8999999999999999, 0.9999999999999999]], 'AUC': [0.6000754360972312], 'Y_pos_frac': [0.06241609849685417], 'AUPRC': [0.27858695550065293], 'recall_curves': [[0.27690144466406336, 0.27690144466406336, 0.27690144466406336, 0.27690144466406336, 0.27690144466406336, 0.27690144466406336, 0.17698661395812243, 0.09764900609040801, 0.09764900609040801, 0.0014494849668161146]]}}, u'dn_all': {u'chr1': {'precision_curves': [[0.1, 0.2, 0.30000000000000004, 0.4, 0.5, 0.6, 0.7, 0.7999999999999999, 0.8999999999999999, 0.9999999999999999]], 'AUC': [0.9627592140334285], 'Y_pos_frac': [0.06241609849685417], 'AUPRC': [0.7710464218171716], 'recall_curves': [[0.9910411544456764, 0.9661315463851259, 0.9326535859486734, 0.8876584872005013, 0.8278166128332449, 0.7561892365295924, 0.6695174275659258, 0.5644458371498818, 0.4133571164569574, 0.09240064921499623]]}}}\n",
      "...Done\n",
      "{u'train_samples': {u'dn': {'precision_curves': [[0.1, 0.2, 0.30000000000000004, 0.4, 0.5, 0.6, 0.7, 0.7999999999999999, 0.8999999999999999, 0.9999999999999999]], 'AUC': [0.9729195667130615], 'Y_pos_frac': [0.498], 'AUPRC': [0.9743057427168642], 'recall_curves': [[1.0, 1.0, 1.0, 1.0, 1.0, 0.9979919678714859, 0.9879518072289156, 0.9859437751004017, 0.9337349397590361, 0.4799196787148594]]}, u'orig': {'precision_curves': [[0.1, 0.2, 0.30000000000000004, 0.4, 0.5, 0.6, 0.7, 0.7999999999999999, 0.8999999999999999, 0.9999999999999999]], 'AUC': [0.7856485703771263], 'Y_pos_frac': [0.498], 'AUPRC': [0.83904124026958], 'recall_curves': [[1.0, 1.0, 1.0, 1.0, 0.5923694779116466, 0.5923694779116466, 0.5923694779116466, 0.5923694779116466, 0.5923694779116466, 0.18072289156626506]]}}, u'test_results': [{u'genome': {u'orig_all': {u'chr1': {'precision_curves': [[0.1, 0.2, 0.30000000000000004, 0.4, 0.5, 0.6, 0.7, 0.7999999999999999, 0.8999999999999999, 0.9999999999999999]], 'AUC': [0.6000754360972312], 'Y_pos_frac': [0.06241609849685417], 'AUPRC': [0.27858695550065293], 'recall_curves': [[0.27690144466406336, 0.27690144466406336, 0.27690144466406336, 0.27690144466406336, 0.27690144466406336, 0.27690144466406336, 0.17698661395812243, 0.09764900609040801, 0.09764900609040801, 0.0014494849668161146]]}}, u'dn_all': {u'chr1': {'precision_curves': [[0.1, 0.2, 0.30000000000000004, 0.4, 0.5, 0.6, 0.7, 0.7999999999999999, 0.8999999999999999, 0.9999999999999999]], 'AUC': [0.9627592140334285], 'Y_pos_frac': [0.06241609849685417], 'AUPRC': [0.7710464218171716], 'recall_curves': [[0.9910411544456764, 0.9661315463851259, 0.9326535859486734, 0.8876584872005013, 0.8278166128332449, 0.7561892365295924, 0.6695174275659258, 0.5644458371498818, 0.4133571164569574, 0.09240064921499623]]}}}, u'samples': {u'dn': {'precision_curves': [[0.1, 0.2, 0.30000000000000004, 0.4, 0.5, 0.6, 0.7, 0.7999999999999999, 0.8999999999999999, 0.9999999999999999]], 'AUC': [0.967403478455653], 'Y_pos_frac': [0.498], 'AUPRC': [0.9663374211707654], 'recall_curves': [[1.0, 1.0, 1.0, 1.0, 1.0, 1.0, 0.9919678714859438, 0.9718875502008032, 0.9116465863453815, 0.3253012048192771]]}, u'orig': {'precision_curves': [[0.1, 0.2, 0.30000000000000004, 0.4, 0.5, 0.6, 0.7, 0.7999999999999999, 0.8999999999999999, 0.9999999999999999]], 'AUC': [0.6618005888094209], 'Y_pos_frac': [0.498], 'AUPRC': [0.7108821226998342], 'recall_curves': [[1.0, 1.0, 1.0, 1.0, 0.6024096385542169, 0.6024096385542169, 0.25502008032128515, 0.25502008032128515, 0.25502008032128515, 0.09036144578313253]]}}}]}\n",
      "{u'train_samples': {u'dn': {'precision_curves': [[0.1, 0.2, 0.30000000000000004, 0.4, 0.5, 0.6, 0.7, 0.7999999999999999, 0.8999999999999999, 0.9999999999999999]], 'AUC': [0.9729195667130615], 'Y_pos_frac': [0.498], 'AUPRC': [0.9743057427168642], 'recall_curves': [[1.0, 1.0, 1.0, 1.0, 1.0, 0.9979919678714859, 0.9879518072289156, 0.9859437751004017, 0.9337349397590361, 0.4799196787148594]]}, u'orig': {'precision_curves': [[0.1, 0.2, 0.30000000000000004, 0.4, 0.5, 0.6, 0.7, 0.7999999999999999, 0.8999999999999999, 0.9999999999999999]], 'AUC': [0.7856485703771263], 'Y_pos_frac': [0.498], 'AUPRC': [0.83904124026958], 'recall_curves': [[1.0, 1.0, 1.0, 1.0, 0.5923694779116466, 0.5923694779116466, 0.5923694779116466, 0.5923694779116466, 0.5923694779116466, 0.18072289156626506]]}}, u'test_results': [{u'genome': {u'orig_all': {u'chr1': {'precision_curves': [[0.1, 0.2, 0.30000000000000004, 0.4, 0.5, 0.6, 0.7, 0.7999999999999999, 0.8999999999999999, 0.9999999999999999]], 'AUC': [0.6000754360972312], 'Y_pos_frac': [0.06241609849685417], 'AUPRC': [0.27858695550065293], 'recall_curves': [[0.27690144466406336, 0.27690144466406336, 0.27690144466406336, 0.27690144466406336, 0.27690144466406336, 0.27690144466406336, 0.17698661395812243, 0.09764900609040801, 0.09764900609040801, 0.0014494849668161146]]}}, u'dn_all': {u'chr1': {'precision_curves': [[0.1, 0.2, 0.30000000000000004, 0.4, 0.5, 0.6, 0.7, 0.7999999999999999, 0.8999999999999999, 0.9999999999999999]], 'AUC': [0.9627592140334285], 'Y_pos_frac': [0.06241609849685417], 'AUPRC': [0.7710464218171716], 'recall_curves': [[0.9910411544456764, 0.9661315463851259, 0.9326535859486734, 0.8876584872005013, 0.8278166128332449, 0.7561892365295924, 0.6695174275659258, 0.5644458371498818, 0.4133571164569574, 0.09240064921499623]]}}}, u'samples': {u'dn': {'precision_curves': [[0.1, 0.2, 0.30000000000000004, 0.4, 0.5, 0.6, 0.7, 0.7999999999999999, 0.8999999999999999, 0.9999999999999999]], 'AUC': [0.967403478455653], 'Y_pos_frac': [0.498], 'AUPRC': [0.9663374211707654], 'recall_curves': [[1.0, 1.0, 1.0, 1.0, 1.0, 1.0, 0.9919678714859438, 0.9718875502008032, 0.9116465863453815, 0.3253012048192771]]}, u'orig': {'precision_curves': [[0.1, 0.2, 0.30000000000000004, 0.4, 0.5, 0.6, 0.7, 0.7999999999999999, 0.8999999999999999, 0.9999999999999999]], 'AUC': [0.6618005888094209], 'Y_pos_frac': [0.498], 'AUPRC': [0.7108821226998342], 'recall_curves': [[1.0, 1.0, 1.0, 1.0, 0.6024096385542169, 0.6024096385542169, 0.25502008032128515, 0.25502008032128515, 0.25502008032128515, 0.09036144578313253]]}}}]}\n",
      "mid: 500\n",
      "mid: 500\n",
      "mid: 500\n",
      "Bias-only MSE is  2.6580107\n",
      "train samples - Original:\n",
      "mid: 500\n",
      "MSE 1.654 (true var 2.658), pearsonR 0.772\n",
      "train samples - Denoised:\n",
      "MSE 1.161 (true var 2.658), pearsonR 0.785\n",
      "Evaluate model on testing data\n",
      "mid: 500\n",
      "mid: 500\n",
      "mid: 500\n",
      "Bias-only MSE is  1.9117403\n",
      "test samples - Original:\n",
      "mid: 500\n",
      "MSE 1.924 (true var 1.912), pearsonR 0.664\n",
      "test samples - Denoised:\n",
      "MSE 0.894 (true var 1.912), pearsonR 0.738\n",
      "Test model on genome index 0 ...\n",
      "Test chr1, 9.97E+06 bins - Original, all signal:\n",
      "MSE 0.505 (true var 0.480), pearsonR 0.597\n",
      "Test chr1, 9.97E+06 bins - Original, only peaks:\n",
      "MSE 3.411 (true var 1.209), pearsonR 0.648\n"
     ]
    }
   ],
   "source": [
    "def evaluate_model():\n",
    "    for model, params in modelList:\n",
    "        print model.evaluate_model()\n",
    "\n",
    "#evaluate_model()"
   ]
  },
  {
   "cell_type": "code",
   "execution_count": null,
   "metadata": {},
   "outputs": [],
   "source": []
  },
  {
   "cell_type": "code",
   "execution_count": null,
   "metadata": {},
   "outputs": [],
   "source": []
  },
  {
   "cell_type": "code",
   "execution_count": null,
   "metadata": {},
   "outputs": [],
   "source": []
  },
  {
   "cell_type": "code",
   "execution_count": null,
   "metadata": {},
   "outputs": [],
   "source": []
  },
  {
   "cell_type": "code",
   "execution_count": null,
   "metadata": {},
   "outputs": [],
   "source": []
  }
 ],
 "metadata": {
  "kernelspec": {
   "display_name": "Python 2",
   "language": "python",
   "name": "python2"
  },
  "language_info": {
   "codemirror_mode": {
    "name": "ipython",
    "version": 2
   },
   "file_extension": ".py",
   "mimetype": "text/x-python",
   "name": "python",
   "nbconvert_exporter": "python",
   "pygments_lexer": "ipython2",
   "version": "2.7.12"
  }
 },
 "nbformat": 4,
 "nbformat_minor": 2
}
